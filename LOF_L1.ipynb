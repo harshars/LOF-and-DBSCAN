{
 "cells": [
  {
   "cell_type": "code",
   "execution_count": 5,
   "metadata": {},
   "outputs": [],
   "source": [
    "import pandas as pd\n",
    "import numpy as np\n",
    "import matplotlib.pyplot as plt\n",
    "from scipy.spatial.distance import cdist\n",
    "from sklearn.cluster import DBSCAN\n",
    "from sklearn.metrics import silhouette_samples, silhouette_score\n",
    "import matplotlib.pyplot as plt\n",
    "import numpy as np\n",
    "from sklearn.preprocessing import StandardScaler\n",
    "from sklearn.neighbors import LocalOutlierFactor\n",
    "from sklearn import metrics"
   ]
  },
  {
   "cell_type": "code",
   "execution_count": 6,
   "metadata": {},
   "outputs": [],
   "source": [
    "## Import the data"
   ]
  },
  {
   "cell_type": "code",
   "execution_count": 7,
   "metadata": {},
   "outputs": [],
   "source": [
    "data = pd.read_csv(\"C:\\\\Users\\\\akshay.arora\\\\Desktop\\\\Segmentation Case Study\\\\Data_Case_study.csv\",encoding='utf-8')"
   ]
  },
  {
   "cell_type": "code",
   "execution_count": 8,
   "metadata": {},
   "outputs": [
    {
     "data": {
      "text/html": [
       "<div>\n",
       "<style scoped>\n",
       "    .dataframe tbody tr th:only-of-type {\n",
       "        vertical-align: middle;\n",
       "    }\n",
       "\n",
       "    .dataframe tbody tr th {\n",
       "        vertical-align: top;\n",
       "    }\n",
       "\n",
       "    .dataframe thead th {\n",
       "        text-align: right;\n",
       "    }\n",
       "</style>\n",
       "<table border=\"1\" class=\"dataframe\">\n",
       "  <thead>\n",
       "    <tr style=\"text-align: right;\">\n",
       "      <th></th>\n",
       "      <th>customerid</th>\n",
       "      <th>max_purchase_amount</th>\n",
       "      <th>average_amount_purchase</th>\n",
       "      <th>No of visit</th>\n",
       "      <th>Frequency_of_visit</th>\n",
       "      <th>percentage_buys_discount</th>\n",
       "      <th>Total Number of Purchase</th>\n",
       "    </tr>\n",
       "  </thead>\n",
       "  <tbody>\n",
       "    <tr>\n",
       "      <th>0</th>\n",
       "      <td>1024</td>\n",
       "      <td>93125.55</td>\n",
       "      <td>62600</td>\n",
       "      <td>10</td>\n",
       "      <td>45</td>\n",
       "      <td>50.00</td>\n",
       "      <td>8</td>\n",
       "    </tr>\n",
       "    <tr>\n",
       "      <th>1</th>\n",
       "      <td>7725</td>\n",
       "      <td>122979.04</td>\n",
       "      <td>92000</td>\n",
       "      <td>10</td>\n",
       "      <td>43</td>\n",
       "      <td>71.43</td>\n",
       "      <td>10</td>\n",
       "    </tr>\n",
       "    <tr>\n",
       "      <th>2</th>\n",
       "      <td>2196</td>\n",
       "      <td>139725.00</td>\n",
       "      <td>99999</td>\n",
       "      <td>11</td>\n",
       "      <td>40</td>\n",
       "      <td>88.89</td>\n",
       "      <td>9</td>\n",
       "    </tr>\n",
       "    <tr>\n",
       "      <th>3</th>\n",
       "      <td>4951</td>\n",
       "      <td>43068.48</td>\n",
       "      <td>25100</td>\n",
       "      <td>10</td>\n",
       "      <td>30</td>\n",
       "      <td>0.00</td>\n",
       "      <td>6</td>\n",
       "    </tr>\n",
       "    <tr>\n",
       "      <th>4</th>\n",
       "      <td>5278</td>\n",
       "      <td>44709.60</td>\n",
       "      <td>25100</td>\n",
       "      <td>11</td>\n",
       "      <td>32</td>\n",
       "      <td>0.00</td>\n",
       "      <td>11</td>\n",
       "    </tr>\n",
       "  </tbody>\n",
       "</table>\n",
       "</div>"
      ],
      "text/plain": [
       "   customerid  max_purchase_amount  average_amount_purchase  No of visit  \\\n",
       "0        1024             93125.55                    62600           10   \n",
       "1        7725            122979.04                    92000           10   \n",
       "2        2196            139725.00                    99999           11   \n",
       "3        4951             43068.48                    25100           10   \n",
       "4        5278             44709.60                    25100           11   \n",
       "\n",
       "   Frequency_of_visit  percentage_buys_discount  Total Number of Purchase  \n",
       "0                  45                     50.00                         8  \n",
       "1                  43                     71.43                        10  \n",
       "2                  40                     88.89                         9  \n",
       "3                  30                      0.00                         6  \n",
       "4                  32                      0.00                        11  "
      ]
     },
     "execution_count": 8,
     "metadata": {},
     "output_type": "execute_result"
    }
   ],
   "source": [
    "data.head()"
   ]
  },
  {
   "cell_type": "code",
   "execution_count": 9,
   "metadata": {},
   "outputs": [
    {
     "data": {
      "text/plain": [
       "Index(['customerid', 'max_purchase_amount', 'average_amount_purchase',\n",
       "       'No of visit', 'Frequency_of_visit', 'percentage_buys_discount',\n",
       "       'Total Number of Purchase'],\n",
       "      dtype='object')"
      ]
     },
     "execution_count": 9,
     "metadata": {},
     "output_type": "execute_result"
    }
   ],
   "source": [
    "data.columns"
   ]
  },
  {
   "cell_type": "code",
   "execution_count": 10,
   "metadata": {},
   "outputs": [
    {
     "name": "stdout",
     "output_type": "stream",
     "text": [
      "<class 'pandas.core.frame.DataFrame'>\n",
      "RangeIndex: 399 entries, 0 to 398\n",
      "Data columns (total 7 columns):\n",
      "customerid                  399 non-null int64\n",
      "max_purchase_amount         399 non-null float64\n",
      "average_amount_purchase     399 non-null int64\n",
      "No of visit                 399 non-null int64\n",
      "Frequency_of_visit          399 non-null int64\n",
      "percentage_buys_discount    399 non-null float64\n",
      "Total Number of Purchase    399 non-null int64\n",
      "dtypes: float64(2), int64(5)\n",
      "memory usage: 21.9 KB\n"
     ]
    }
   ],
   "source": [
    "data.info()"
   ]
  },
  {
   "cell_type": "code",
   "execution_count": 11,
   "metadata": {},
   "outputs": [
    {
     "data": {
      "text/html": [
       "<div>\n",
       "<style scoped>\n",
       "    .dataframe tbody tr th:only-of-type {\n",
       "        vertical-align: middle;\n",
       "    }\n",
       "\n",
       "    .dataframe tbody tr th {\n",
       "        vertical-align: top;\n",
       "    }\n",
       "\n",
       "    .dataframe thead th {\n",
       "        text-align: right;\n",
       "    }\n",
       "</style>\n",
       "<table border=\"1\" class=\"dataframe\">\n",
       "  <thead>\n",
       "    <tr style=\"text-align: right;\">\n",
       "      <th></th>\n",
       "      <th>customerid</th>\n",
       "      <th>max_purchase_amount</th>\n",
       "      <th>average_amount_purchase</th>\n",
       "      <th>No of visit</th>\n",
       "      <th>Frequency_of_visit</th>\n",
       "      <th>percentage_buys_discount</th>\n",
       "      <th>Total Number of Purchase</th>\n",
       "    </tr>\n",
       "  </thead>\n",
       "  <tbody>\n",
       "    <tr>\n",
       "      <th>count</th>\n",
       "      <td>399.000000</td>\n",
       "      <td>3.990000e+02</td>\n",
       "      <td>399.000000</td>\n",
       "      <td>399.000000</td>\n",
       "      <td>399.000000</td>\n",
       "      <td>399.000000</td>\n",
       "      <td>399.000000</td>\n",
       "    </tr>\n",
       "    <tr>\n",
       "      <th>mean</th>\n",
       "      <td>7159.979950</td>\n",
       "      <td>1.111784e+05</td>\n",
       "      <td>77938.112782</td>\n",
       "      <td>16.837093</td>\n",
       "      <td>15.799499</td>\n",
       "      <td>45.379699</td>\n",
       "      <td>12.498747</td>\n",
       "    </tr>\n",
       "    <tr>\n",
       "      <th>std</th>\n",
       "      <td>15472.600717</td>\n",
       "      <td>8.271623e+04</td>\n",
       "      <td>60563.433769</td>\n",
       "      <td>5.623088</td>\n",
       "      <td>11.710276</td>\n",
       "      <td>39.175858</td>\n",
       "      <td>4.892757</td>\n",
       "    </tr>\n",
       "    <tr>\n",
       "      <th>min</th>\n",
       "      <td>41.000000</td>\n",
       "      <td>3.001472e+04</td>\n",
       "      <td>20060.000000</td>\n",
       "      <td>10.000000</td>\n",
       "      <td>1.000000</td>\n",
       "      <td>0.000000</td>\n",
       "      <td>5.000000</td>\n",
       "    </tr>\n",
       "    <tr>\n",
       "      <th>25%</th>\n",
       "      <td>2646.000000</td>\n",
       "      <td>7.064332e+04</td>\n",
       "      <td>48065.000000</td>\n",
       "      <td>12.000000</td>\n",
       "      <td>7.000000</td>\n",
       "      <td>0.000000</td>\n",
       "      <td>9.000000</td>\n",
       "    </tr>\n",
       "    <tr>\n",
       "      <th>50%</th>\n",
       "      <td>5093.000000</td>\n",
       "      <td>1.124341e+05</td>\n",
       "      <td>80100.000000</td>\n",
       "      <td>16.000000</td>\n",
       "      <td>13.000000</td>\n",
       "      <td>37.500000</td>\n",
       "      <td>12.000000</td>\n",
       "    </tr>\n",
       "    <tr>\n",
       "      <th>75%</th>\n",
       "      <td>7521.500000</td>\n",
       "      <td>1.341798e+05</td>\n",
       "      <td>96933.000000</td>\n",
       "      <td>21.000000</td>\n",
       "      <td>22.000000</td>\n",
       "      <td>100.000000</td>\n",
       "      <td>15.000000</td>\n",
       "    </tr>\n",
       "    <tr>\n",
       "      <th>max</th>\n",
       "      <td>110880.000000</td>\n",
       "      <td>1.063370e+06</td>\n",
       "      <td>797500.000000</td>\n",
       "      <td>30.000000</td>\n",
       "      <td>62.000000</td>\n",
       "      <td>100.000000</td>\n",
       "      <td>29.000000</td>\n",
       "    </tr>\n",
       "  </tbody>\n",
       "</table>\n",
       "</div>"
      ],
      "text/plain": [
       "          customerid  max_purchase_amount  average_amount_purchase  \\\n",
       "count     399.000000         3.990000e+02               399.000000   \n",
       "mean     7159.979950         1.111784e+05             77938.112782   \n",
       "std     15472.600717         8.271623e+04             60563.433769   \n",
       "min        41.000000         3.001472e+04             20060.000000   \n",
       "25%      2646.000000         7.064332e+04             48065.000000   \n",
       "50%      5093.000000         1.124341e+05             80100.000000   \n",
       "75%      7521.500000         1.341798e+05             96933.000000   \n",
       "max    110880.000000         1.063370e+06            797500.000000   \n",
       "\n",
       "       No of visit  Frequency_of_visit  percentage_buys_discount  \\\n",
       "count   399.000000          399.000000                399.000000   \n",
       "mean     16.837093           15.799499                 45.379699   \n",
       "std       5.623088           11.710276                 39.175858   \n",
       "min      10.000000            1.000000                  0.000000   \n",
       "25%      12.000000            7.000000                  0.000000   \n",
       "50%      16.000000           13.000000                 37.500000   \n",
       "75%      21.000000           22.000000                100.000000   \n",
       "max      30.000000           62.000000                100.000000   \n",
       "\n",
       "       Total Number of Purchase  \n",
       "count                399.000000  \n",
       "mean                  12.498747  \n",
       "std                    4.892757  \n",
       "min                    5.000000  \n",
       "25%                    9.000000  \n",
       "50%                   12.000000  \n",
       "75%                   15.000000  \n",
       "max                   29.000000  "
      ]
     },
     "execution_count": 11,
     "metadata": {},
     "output_type": "execute_result"
    }
   ],
   "source": [
    "data.describe()"
   ]
  },
  {
   "cell_type": "code",
   "execution_count": null,
   "metadata": {},
   "outputs": [],
   "source": []
  },
  {
   "cell_type": "code",
   "execution_count": 12,
   "metadata": {},
   "outputs": [],
   "source": [
    "data=data[['max_purchase_amount', 'average_amount_purchase',\n",
    "       'No of visit', 'Frequency_of_visit', 'percentage_buys_discount',\n",
    "       'Total Number of Purchase']]"
   ]
  },
  {
   "cell_type": "code",
   "execution_count": 13,
   "metadata": {},
   "outputs": [],
   "source": [
    "##Lets scale the data using standardscaler\n",
    "##Scaling is a important step before running the standard scaler"
   ]
  },
  {
   "cell_type": "code",
   "execution_count": 14,
   "metadata": {},
   "outputs": [],
   "source": [
    "stscaler = StandardScaler().fit(data)\n",
    "data = stscaler.transform(data)"
   ]
  },
  {
   "cell_type": "code",
   "execution_count": null,
   "metadata": {},
   "outputs": [],
   "source": []
  },
  {
   "cell_type": "code",
   "execution_count": 15,
   "metadata": {},
   "outputs": [
    {
     "name": "stderr",
     "output_type": "stream",
     "text": [
      "C:\\Users\\akshay.arora\\AppData\\Local\\Continuum\\anaconda31\\lib\\site-packages\\scipy\\stats\\stats.py:1713: FutureWarning: Using a non-tuple sequence for multidimensional indexing is deprecated; use `arr[tuple(seq)]` instead of `arr[seq]`. In the future this will be interpreted as an array index, `arr[np.array(seq)]`, which will result either in an error or a different result.\n",
      "  return np.add.reduce(sorted[indexer] * weights, axis=axis) / sumval\n"
     ]
    },
    {
     "data": {
      "text/plain": [
       "array([ 1,  1,  1,  1,  1,  1, -1,  1,  1,  1, -1, -1, -1,  1,  1,  1,  1,\n",
       "        1,  1,  1,  1,  1,  1,  1,  1,  1,  1,  1,  1,  1,  1,  1,  1,  1,\n",
       "       -1,  1,  1,  1,  1,  1,  1,  1,  1,  1,  1,  1,  1,  1,  1,  1,  1,\n",
       "        1,  1,  1, -1, -1, -1,  1,  1,  1,  1, -1,  1,  1,  1,  1,  1,  1,\n",
       "        1,  1,  1,  1,  1,  1,  1,  1,  1,  1,  1, -1, -1, -1, -1,  1,  1,\n",
       "        1,  1,  1,  1,  1,  1,  1,  1,  1,  1,  1,  1, -1,  1,  1,  1,  1,\n",
       "        1,  1,  1,  1,  1,  1,  1,  1,  1,  1,  1,  1,  1,  1,  1,  1,  1,\n",
       "        1,  1,  1, -1,  1, -1,  1,  1,  1,  1,  1,  1,  1,  1,  1,  1,  1,\n",
       "        1,  1,  1,  1,  1,  1,  1,  1,  1,  1, -1, -1,  1,  1,  1,  1,  1,\n",
       "        1,  1,  1,  1,  1,  1,  1,  1,  1,  1,  1,  1, -1, -1,  1,  1,  1,\n",
       "        1, -1,  1,  1,  1,  1,  1,  1,  1,  1,  1,  1,  1,  1, -1,  1,  1,\n",
       "        1, -1, -1,  1,  1,  1,  1,  1,  1,  1,  1,  1,  1,  1,  1,  1,  1,\n",
       "        1,  1,  1,  1,  1,  1, -1,  1,  1,  1,  1,  1,  1,  1,  1,  1,  1,\n",
       "        1,  1,  1,  1,  1,  1,  1,  1,  1,  1,  1,  1,  1,  1,  1,  1,  1,\n",
       "        1,  1,  1,  1,  1, -1,  1, -1, -1,  1, -1, -1,  1,  1,  1,  1,  1,\n",
       "        1,  1,  1,  1,  1,  1,  1,  1,  1,  1,  1,  1,  1,  1,  1,  1,  1,\n",
       "        1,  1,  1,  1,  1,  1,  1,  1,  1,  1,  1,  1,  1,  1,  1,  1,  1,\n",
       "        1,  1,  1,  1,  1,  1,  1,  1,  1,  1,  1,  1, -1,  1,  1,  1,  1,\n",
       "        1,  1,  1,  1,  1,  1,  1,  1,  1,  1,  1,  1, -1,  1,  1,  1,  1,\n",
       "        1,  1,  1,  1,  1,  1,  1,  1,  1,  1,  1,  1,  1,  1,  1,  1,  1,\n",
       "       -1,  1,  1,  1,  1,  1,  1,  1, -1,  1, -1,  1,  1,  1,  1, -1,  1,\n",
       "        1,  1,  1,  1,  1,  1,  1, -1,  1,  1,  1,  1, -1,  1,  1,  1,  1,\n",
       "        1,  1,  1,  1,  1,  1,  1,  1,  1,  1,  1,  1,  1,  1,  1, -1, -1,\n",
       "        1,  1,  1,  1,  1,  1,  1,  1])"
      ]
     },
     "execution_count": 15,
     "metadata": {},
     "output_type": "execute_result"
    }
   ],
   "source": [
    "#Lets run the LOF \n",
    "\n",
    "## -1 values indicates its a outlier whereas 1 indicates its a normal point.\n",
    "clf1 = LocalOutlierFactor(n_neighbors=10,contamination=0.1)\n",
    "clf1.fit_predict(data)\n"
   ]
  },
  {
   "cell_type": "code",
   "execution_count": 16,
   "metadata": {},
   "outputs": [],
   "source": []
  },
  {
   "cell_type": "code",
   "execution_count": null,
   "metadata": {},
   "outputs": [],
   "source": []
  },
  {
   "cell_type": "code",
   "execution_count": null,
   "metadata": {},
   "outputs": [],
   "source": []
  }
 ],
 "metadata": {
  "kernelspec": {
   "display_name": "Python 3",
   "language": "python",
   "name": "python3"
  },
  "language_info": {
   "codemirror_mode": {
    "name": "ipython",
    "version": 3
   },
   "file_extension": ".py",
   "mimetype": "text/x-python",
   "name": "python",
   "nbconvert_exporter": "python",
   "pygments_lexer": "ipython3",
   "version": "3.6.5"
  }
 },
 "nbformat": 4,
 "nbformat_minor": 2
}
